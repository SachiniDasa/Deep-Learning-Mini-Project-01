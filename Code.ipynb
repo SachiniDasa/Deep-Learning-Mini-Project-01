{
  "nbformat": 4,
  "nbformat_minor": 0,
  "metadata": {
    "colab": {
      "provenance": []
    },
    "kernelspec": {
      "name": "python3",
      "display_name": "Python 3"
    },
    "language_info": {
      "name": "python"
    }
  },
  "cells": [
    {
      "cell_type": "code",
      "execution_count": null,
      "metadata": {
        "colab": {
          "base_uri": "https://localhost:8080/"
        },
        "id": "IIGbb3bUY3gW",
        "outputId": "6cd0ebe7-0bf9-4c6c-b5d1-b51c1bf74f87"
      },
      "outputs": [
        {
          "output_type": "stream",
          "name": "stdout",
          "text": [
            "Mounted at /content/drive\n"
          ]
        }
      ],
      "source": [
        "from google.colab import drive\n",
        "drive.mount('/content/drive')"
      ]
    },
    {
      "cell_type": "code",
      "source": [
        "import numpy as np\n",
        "import random\n",
        "import os\n",
        "import matplotlib.pyplot as plt\n",
        "from tensorflow.keras.models import Sequential\n",
        "from tensorflow.keras.layers import Conv2D , MaxPooling2D ,Dense ,Flatten\n",
        "from tensorflow.keras.optimizers import SGD\n",
        "\n"
      ],
      "metadata": {
        "id": "oaFhI2LmaKGu"
      },
      "execution_count": null,
      "outputs": []
    },
    {
      "cell_type": "code",
      "source": [
        "os.chdir(\"/content/drive/My Drive/Deep Learning/mini_project_1\")\n",
        "os.getcwd()"
      ],
      "metadata": {
        "colab": {
          "base_uri": "https://localhost:8080/",
          "height": 35
        },
        "id": "jfTTP5IFZeDP",
        "outputId": "20819892-0e57-4c6b-e9c8-e1f08b85a77a"
      },
      "execution_count": null,
      "outputs": [
        {
          "output_type": "execute_result",
          "data": {
            "text/plain": [
              "'/content/drive/My Drive/Deep Learning/mini_project_1'"
            ],
            "application/vnd.google.colaboratory.intrinsic+json": {
              "type": "string"
            }
          },
          "metadata": {},
          "execution_count": 5
        }
      ]
    },
    {
      "cell_type": "code",
      "source": [
        "from PIL import Image\n",
        "import numpy as np\n",
        "import pandas as pd\n",
        "import os\n",
        "\n",
        "# Function to convert an image to normalized pixel values\n",
        "def image_to_normalized_pixels(image_path, target_size=(100, 100)):\n",
        "    try:\n",
        "        img = Image.open(image_path)\n",
        "        # Resize the image to a consistent size\n",
        "        img = img.resize(target_size)\n",
        "        # Convert the image to a numpy array of pixel values\n",
        "        pixels = np.array(img)\n",
        "        # Normalize the pixel values to be in the range [0, 1]\n",
        "        normalized_pixels = pixels / 255.0\n",
        "        return normalized_pixels\n",
        "    except Exception as e:\n",
        "        print(f\"Error processing image {image_path}: {str(e)}\")\n",
        "        return None\n",
        "\n",
        "# Function to create CSV file for a given dataset\n",
        "def create_csv(dataset_path, csv_filename, label_csv_filename, decimal_places=6):\n",
        "    # Lists to store normalized pixel values and labels\n",
        "    pixels_list = []\n",
        "    labels_list = []\n",
        "\n",
        "    for label in os.listdir(dataset_path):\n",
        "        label_path = os.path.join(dataset_path, label)\n",
        "        label_value = 1 if label == 'ra' else 0  # Encoding 'ra' as 1 and 'da' as 0\n",
        "\n",
        "        for image_file in os.listdir(label_path):\n",
        "            image_path = os.path.join(label_path, image_file)\n",
        "            normalized_pixels = image_to_normalized_pixels(image_path)\n",
        "\n",
        "            # Skip images that couldn't be processed\n",
        "            if normalized_pixels is not None:\n",
        "                # Flatten the array\n",
        "                flattened_pixels = normalized_pixels.flatten()\n",
        "                pixels_list.append(flattened_pixels)\n",
        "                labels_list.append(label_value)\n",
        "\n",
        "    # Add normalized pixel values and labels to the DataFrame\n",
        "    pixels_array = np.array(pixels_list)\n",
        "    labels_array = np.array(labels_list)\n",
        "\n",
        "    # Create DataFrames\n",
        "    pixels_df = pd.DataFrame(pixels_array)\n",
        "    labels_df = pd.DataFrame(labels_array, columns=['Label'])\n",
        "\n",
        "    # Save DataFrames to CSV files\n",
        "    pixels_df.to_csv(csv_filename, index=False, header=False, sep=',', float_format=f'%.{decimal_places}f')\n",
        "    labels_df.to_csv(label_csv_filename, index=False, sep=',')\n",
        "\n",
        "# Example usage:\n",
        "local_dataset_path = '/content/drive/My Drive/Deep Learning/mini_project_1/'\n",
        "create_csv(os.path.join(local_dataset_path, 'train'), 'input.csv', 'labels.csv', decimal_places=6)\n",
        "create_csv(os.path.join(local_dataset_path, 'test'), 'input_test.csv', 'labels_test.csv', decimal_places=6)\n"
      ],
      "metadata": {
        "id": "OWEwww84rqiB"
      },
      "execution_count": null,
      "outputs": []
    },
    {
      "cell_type": "code",
      "source": [
        "import pandas as pd\n",
        "import os\n",
        "import numpy as np\n",
        "\n",
        "# Function to create CSV file for labels\n",
        "def create_label_csv(dataset_path, label_csv_filename):\n",
        "    labels_data = {'Label': []}\n",
        "\n",
        "    for label in os.listdir(dataset_path):\n",
        "        label_path = os.path.join(dataset_path, label)\n",
        "        label_value = 1 if label == 'ra' else 0\n",
        "\n",
        "        for _ in os.listdir(label_path):\n",
        "            labels_data['Label'].append(label_value)\n",
        "\n",
        "    df_labels = pd.DataFrame(labels_data)\n",
        "    df_labels.to_csv(label_csv_filename, index=False, header=False, sep=',')\n",
        "\n",
        "# Example usage:\n",
        "local_dataset_path = '/content/drive/My Drive/Deep Learning/mini_project_1/'\n",
        "create_label_csv(os.path.join(local_dataset_path, 'train'), 'labels.csv')\n",
        "create_label_csv(os.path.join(local_dataset_path, 'test'), 'labels_test.csv')\n",
        "\n",
        "# Load data\n",
        "X_train = np.loadtxt('input.csv', delimiter=',')\n",
        "Y_train = np.loadtxt('labels.csv')\n",
        "X_test = np.loadtxt('input_test.csv', delimiter=',')\n",
        "Y_test = np.loadtxt('labels_test.csv')\n",
        "\n",
        "# Ensure Y_train and Y_test are 1D arrays\n",
        "Y_train = np.squeeze(Y_train)\n",
        "Y_test = np.squeeze(Y_test)\n"
      ],
      "metadata": {
        "id": "NdfLqCnDucMJ"
      },
      "execution_count": null,
      "outputs": []
    },
    {
      "cell_type": "code",
      "source": [
        "print(\"Shape of X_train: \", X_train.shape)\n",
        "print(\"Shape of Y_train: \", Y_train.shape)\n",
        "print(\"Shape of X_test: \", X_test.shape)\n",
        "print(\"Shape of Y_test: \", Y_test.shape)"
      ],
      "metadata": {
        "colab": {
          "base_uri": "https://localhost:8080/"
        },
        "id": "BuD7fNCyuqWu",
        "outputId": "597479cf-d36e-46cf-aeb4-1812272394f6"
      },
      "execution_count": null,
      "outputs": [
        {
          "output_type": "stream",
          "name": "stdout",
          "text": [
            "Shape of X_train:  (80, 30000)\n",
            "Shape of Y_train:  (80,)\n",
            "Shape of X_test:  (20, 30000)\n",
            "Shape of Y_test:  (20,)\n"
          ]
        }
      ]
    },
    {
      "cell_type": "code",
      "source": [
        "X_train = X_train.reshape(len(X_train), 100, 100, 3)\n",
        "Y_train = Y_train.reshape(len(Y_train), 1)\n",
        "X_test = X_test.reshape(len(X_test), 100, 100, 3)\n",
        "Y_test = Y_test.reshape(len(Y_test), 1)\n",
        "print(\"Shape of X_train: \", X_train.shape)\n",
        "print(\"Shape of Y_train: \", Y_train.shape)\n",
        "print(\"Shape of X_test: \", X_test.shape)\n",
        "print(\"Shape of Y_test: \", Y_test.shape)"
      ],
      "metadata": {
        "colab": {
          "base_uri": "https://localhost:8080/"
        },
        "id": "wyYK-3squ0dJ",
        "outputId": "1f7ec76d-4d7f-42b0-9471-e9c3ef53d721"
      },
      "execution_count": null,
      "outputs": [
        {
          "output_type": "stream",
          "name": "stdout",
          "text": [
            "Shape of X_train:  (80, 100, 100, 3)\n",
            "Shape of Y_train:  (80, 1)\n",
            "Shape of X_test:  (20, 100, 100, 3)\n",
            "Shape of Y_test:  (20, 1)\n"
          ]
        }
      ]
    },
    {
      "cell_type": "code",
      "source": [
        "X_train[1,:]"
      ],
      "metadata": {
        "colab": {
          "base_uri": "https://localhost:8080/"
        },
        "id": "pzAqxN7MvGEt",
        "outputId": "eab70346-14f6-4a65-d9f9-8ebd9be7a72e"
      },
      "execution_count": null,
      "outputs": [
        {
          "output_type": "execute_result",
          "data": {
            "text/plain": [
              "array([[[0.321569, 0.270588, 0.247059],\n",
              "        [0.321569, 0.270588, 0.247059],\n",
              "        [0.32549 , 0.27451 , 0.25098 ],\n",
              "        ...,\n",
              "        [0.588235, 0.596078, 0.584314],\n",
              "        [0.592157, 0.6     , 0.588235],\n",
              "        [0.592157, 0.6     , 0.596078]],\n",
              "\n",
              "       [[0.321569, 0.270588, 0.247059],\n",
              "        [0.321569, 0.270588, 0.247059],\n",
              "        [0.321569, 0.270588, 0.247059],\n",
              "        ...,\n",
              "        [0.588235, 0.596078, 0.588235],\n",
              "        [0.592157, 0.6     , 0.588235],\n",
              "        [0.592157, 0.6     , 0.596078]],\n",
              "\n",
              "       [[0.317647, 0.266667, 0.243137],\n",
              "        [0.317647, 0.266667, 0.243137],\n",
              "        [0.321569, 0.270588, 0.247059],\n",
              "        ...,\n",
              "        [0.588235, 0.596078, 0.592157],\n",
              "        [0.592157, 0.596078, 0.592157],\n",
              "        [0.596078, 0.603922, 0.6     ]],\n",
              "\n",
              "       ...,\n",
              "\n",
              "       [[0.309804, 0.137255, 0.078431],\n",
              "        [0.278431, 0.117647, 0.078431],\n",
              "        [0.223529, 0.090196, 0.082353],\n",
              "        ...,\n",
              "        [0.380392, 0.184314, 0.098039],\n",
              "        [0.388235, 0.192157, 0.098039],\n",
              "        [0.4     , 0.2     , 0.090196]],\n",
              "\n",
              "       [[0.294118, 0.121569, 0.078431],\n",
              "        [0.262745, 0.105882, 0.07451 ],\n",
              "        [0.219608, 0.090196, 0.082353],\n",
              "        ...,\n",
              "        [0.368627, 0.184314, 0.094118],\n",
              "        [0.368627, 0.184314, 0.094118],\n",
              "        [0.345098, 0.160784, 0.082353]],\n",
              "\n",
              "       [[0.290196, 0.117647, 0.078431],\n",
              "        [0.25098 , 0.098039, 0.082353],\n",
              "        [0.203922, 0.086275, 0.082353],\n",
              "        ...,\n",
              "        [0.329412, 0.14902 , 0.078431],\n",
              "        [0.321569, 0.141176, 0.078431],\n",
              "        [0.317647, 0.133333, 0.07451 ]]])"
            ]
          },
          "metadata": {},
          "execution_count": 36
        }
      ]
    },
    {
      "cell_type": "code",
      "source": [
        "idx = random.randint(0, len(X_train))\n",
        "plt.imshow(X_train[idx, :])\n",
        "plt.show()"
      ],
      "metadata": {
        "colab": {
          "base_uri": "https://localhost:8080/",
          "height": 433
        },
        "id": "LZPY9YMqvLg9",
        "outputId": "b0013669-231c-477f-dd2f-06af59eacc2f"
      },
      "execution_count": null,
      "outputs": [
        {
          "output_type": "display_data",
          "data": {
            "text/plain": [
              "<Figure size 640x480 with 1 Axes>"
            ],
            "image/png": "[encoded data removed]"
          },
          "metadata": {}
        }
      ]
    },
    {
      "cell_type": "code",
      "source": [
        "model = Sequential()\n",
        "model.add(Conv2D(32, (3,3), activation = 'relu', input_shape = (100, 100, 3)))\n",
        "model.add(MaxPooling2D((2,2)))\n",
        "model.add(Conv2D(32, (3,3), activation = 'relu'))\n",
        "model.add(MaxPooling2D((2,2)))\n",
        "model.add(Flatten())\n",
        "model.add(Dense(64, activation = 'relu'))\n",
        "model.add(Dense(1, activation = 'sigmoid'))"
      ],
      "metadata": {
        "id": "NYWj6-gRvRIa"
      },
      "execution_count": null,
      "outputs": []
    },
    {
      "cell_type": "code",
      "source": [
        "model.compile(loss='binary_crossentropy', optimizer='adam', metrics=['accuracy'])"
      ],
      "metadata": {
        "id": "th5uZW6qvYQx"
      },
      "execution_count": null,
      "outputs": []
    },
    {
      "cell_type": "code",
      "source": [
        "model.fit(X_train, Y_train, epochs = 5, batch_size = 64)"
      ],
      "metadata": {
        "colab": {
          "base_uri": "https://localhost:8080/"
        },
        "id": "Tw0Ndh_WvaeE",
        "outputId": "61edb0f5-6a93-4c6f-c776-1a534cfc4a7c"
      },
      "execution_count": null,
      "outputs": [
        {
          "output_type": "stream",
          "name": "stdout",
          "text": [
            "Epoch 1/5\n",
            "2/2 [==============================] - 2s 143ms/step - loss: 0.7163 - accuracy: 0.5000\n",
            "Epoch 2/5\n",
            "2/2 [==============================] - 1s 166ms/step - loss: 0.8010 - accuracy: 0.5000\n",
            "Epoch 3/5\n",
            "2/2 [==============================] - 1s 133ms/step - loss: 0.7280 - accuracy: 0.5000\n",
            "Epoch 4/5\n",
            "2/2 [==============================] - 1s 148ms/step - loss: 0.6759 - accuracy: 0.5625\n",
            "Epoch 5/5\n",
            "2/2 [==============================] - 1s 217ms/step - loss: 0.6491 - accuracy: 0.6875\n"
          ]
        },
        {
          "output_type": "execute_result",
          "data": {
            "text/plain": [
              "<keras.src.callbacks.History at 0x7a4481f7dae0>"
            ]
          },
          "metadata": {},
          "execution_count": 40
        }
      ]
    },
    {
      "cell_type": "code",
      "source": [
        "model.evaluate(X_test, Y_test)"
      ],
      "metadata": {
        "colab": {
          "base_uri": "https://localhost:8080/"
        },
        "id": "CAF6_chuvju0",
        "outputId": "68fabaa5-6682-4c47-de75-87b281a3a80c"
      },
      "execution_count": null,
      "outputs": [
        {
          "output_type": "stream",
          "name": "stdout",
          "text": [
            "1/1 [==============================] - 0s 310ms/step - loss: 0.5861 - accuracy: 0.5000\n"
          ]
        },
        {
          "output_type": "execute_result",
          "data": {
            "text/plain": [
              "[0.5860670804977417, 0.5]"
            ]
          },
          "metadata": {},
          "execution_count": 41
        }
      ]
    },
    {
      "cell_type": "code",
      "source": [
        "idx2 = random.randint(0, len(Y_test))\n",
        "plt.imshow(X_test[idx2, :])\n",
        "plt.show()\n",
        "y_pred = model.predict(X_test[idx2, :].reshape(1, 100, 100, 3))\n",
        "y_pred = y_pred > 0.5\n",
        "print(y_pred)\n",
        "if(y_pred == 0):\n",
        "   pred = 'da'\n",
        "else:\n",
        "    pred = 'ra'\n",
        "print(\"Our model says it is a :\", pred)"
      ],
      "metadata": {
        "colab": {
          "base_uri": "https://localhost:8080/",
          "height": 485
        },
        "id": "FIfuOGfbvpa9",
        "outputId": "c104a703-1790-4c77-e641-c99704eb8a7d"
      },
      "execution_count": null,
      "outputs": [
        {
          "output_type": "display_data",
          "data": {
            "text/plain": [
              "<Figure size 640x480 with 1 Axes>"
            ],
            "image/png": "[encoded data removed]"
          },
          "metadata": {}
        },
        {
          "output_type": "stream",
          "name": "stdout",
          "text": [
            "1/1 [==============================] - 0s 32ms/step\n",
            "[[False]]\n",
            "Our model says it is a : da\n"
          ]
        }
      ]
    }
  ]
}